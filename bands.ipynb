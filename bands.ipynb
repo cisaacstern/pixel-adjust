{
 "cells": [
  {
   "cell_type": "markdown",
   "id": "lovely-poultry",
   "metadata": {},
   "source": [
    "<h1>Table of Contents<span class=\"tocSkip\"></span></h1>\n",
    "<div class=\"toc\"><ul class=\"toc-item\"><li><span><a href=\"#Read-with-rasterio\" data-toc-modified-id=\"Read-with-rasterio-1\"><span class=\"toc-item-num\">1&nbsp;&nbsp;</span>Read with rasterio</a></span></li><li><span><a href=\"#Find-an-interesting-subset\" data-toc-modified-id=\"Find-an-interesting-subset-2\"><span class=\"toc-item-num\">2&nbsp;&nbsp;</span>Find an interesting subset</a></span></li><li><span><a href=\"#Define-inputs-and-pixel_adjust-func\" data-toc-modified-id=\"Define-inputs-and-pixel_adjust-func-3\"><span class=\"toc-item-num\">3&nbsp;&nbsp;</span>Define inputs and <code>pixel_adjust</code> func</a></span></li><li><span><a href=\"#Explore\" data-toc-modified-id=\"Explore-4\"><span class=\"toc-item-num\">4&nbsp;&nbsp;</span>Explore</a></span></li><li><span><a href=\"#Output\" data-toc-modified-id=\"Output-5\"><span class=\"toc-item-num\">5&nbsp;&nbsp;</span>Output</a></span></li></ul></div>"
   ]
  },
  {
   "cell_type": "code",
   "execution_count": null,
   "id": "atlantic-donor",
   "metadata": {},
   "outputs": [],
   "source": [
    "import rasterio\n",
    "import matplotlib.pyplot as plt\n",
    "import matplotlib.patches as patches\n",
    "import panel as pn\n",
    "pn.extension()"
   ]
  },
  {
   "cell_type": "markdown",
   "id": "chicken-alabama",
   "metadata": {},
   "source": [
    "### Read with rasterio\n",
    "`'example.tiff'` is band 1 from Landsat `LC08_L1TP_037034_20200925_20201006_01_T1`, linked [here](https://landsatonaws.com/L8/037/034/LC08_L1TP_037034_20200925_20201006_01_T1)"
   ]
  },
  {
   "cell_type": "code",
   "execution_count": null,
   "id": "hidden-professor",
   "metadata": {},
   "outputs": [],
   "source": [
    "dataset = rasterio.open('example.tiff')\n",
    "band1 = dataset.read(1)"
   ]
  },
  {
   "cell_type": "markdown",
   "id": "loved-circus",
   "metadata": {},
   "source": [
    "### Find an interesting subset"
   ]
  },
  {
   "cell_type": "code",
   "execution_count": null,
   "id": "italic-teach",
   "metadata": {},
   "outputs": [],
   "source": [
    "fig,ax = plt.subplots(1, 2)\n",
    "\n",
    "x = 3500 # anchor on x-axis\n",
    "y = 5000 # anchor on y-axis\n",
    "extent = 1000 # linear extent\n",
    "\n",
    "ax[0].imshow(band1)\n",
    "rect = patches.Rectangle((x, y), extent, extent,\n",
    "                         linewidth=1,edgecolor='r',facecolor='none')\n",
    "ax[0].add_patch(rect)\n",
    "\n",
    "inset = band1[x:x+extent, y:y+extent]\n",
    "ax[1].imshow(inset)"
   ]
  },
  {
   "cell_type": "markdown",
   "id": "generic-minute",
   "metadata": {},
   "source": [
    "### Define inputs and `pixel_adjust` func"
   ]
  },
  {
   "cell_type": "code",
   "execution_count": null,
   "id": "reasonable-claim",
   "metadata": {},
   "outputs": [],
   "source": [
    "x_slider = pn.widgets.IntSlider(name='x', start=0, end=extent, step=50, value=300)\n",
    "y_slider = pn.widgets.IntSlider(name='y', start=0, end=extent, step=50, value=400)\n",
    "extent_slider = pn.widgets.IntSlider(name='extent', start=1, end=extent, step=50, value=400)\n",
    "delta_slider = pn.widgets.IntSlider(name='delta', start=-5000, end=5000, step=100, value=0)"
   ]
  },
  {
   "cell_type": "code",
   "execution_count": null,
   "id": "sophisticated-diabetes",
   "metadata": {},
   "outputs": [],
   "source": [
    "@pn.depends(x_slider.param.value, y_slider.param.value, \n",
    "            extent_slider.param.value, delta_slider.param.value)\n",
    "def pixel_adjust(x=x_slider.param.value,\n",
    "                 y=y_slider.param.value,\n",
    "                 ext=extent_slider.param.value, \n",
    "                 d=delta_slider.param.value, \n",
    "                 raster=inset):\n",
    "    '''\n",
    "    x is the x index\n",
    "    y is the y index\n",
    "    ext is the extents of the bounding box. 1 means a single pixel\n",
    "    d is the delta\n",
    "    rast is the input raster\n",
    "    '''\n",
    "    fig,ax = plt.subplots(1)\n",
    "    im = raster.copy()\n",
    "    \n",
    "    # highlight the selection pixel and/or area\n",
    "    ax.vlines(x=x, ymin=0, ymax=im.shape[1])\n",
    "    ax.hlines(y=y, xmin=0, xmax=im.shape[0])\n",
    "    rect = patches.Rectangle((x, y), ext, ext,\n",
    "                             linewidth=1,edgecolor='r',facecolor='none')\n",
    "    \n",
    "    # apply the delta to the selected pixel and/or area\n",
    "    im[y:y+ext, x:x+ext] = im[y:y+ext, x:x+ext] + d\n",
    "    \n",
    "    ax.imshow(im)\n",
    "    ax.add_patch(rect)\n",
    "    plt.close()\n",
    "    return fig"
   ]
  },
  {
   "cell_type": "markdown",
   "id": "administrative-jewel",
   "metadata": {},
   "source": [
    "### Explore"
   ]
  },
  {
   "cell_type": "code",
   "execution_count": null,
   "id": "binary-reception",
   "metadata": {},
   "outputs": [],
   "source": [
    "pn.Row(\n",
    "    pixel_adjust,\n",
    "    pn.Column(\n",
    "        x_slider,\n",
    "        y_slider,\n",
    "        extent_slider,\n",
    "        delta_slider\n",
    "    )\n",
    ").servable()"
   ]
  },
  {
   "cell_type": "code",
   "execution_count": null,
   "id": "painful-netherlands",
   "metadata": {},
   "outputs": [],
   "source": []
  }
 ],
 "metadata": {
  "jupytext": {
   "cell_metadata_filter": "-all",
   "formats": "py:light,ipynb",
   "main_language": "python",
   "notebook_metadata_filter": "-all"
  },
  "kernelspec": {
   "display_name": "Python 3",
   "language": "python",
   "name": "python3"
  },
  "language_info": {
   "codemirror_mode": {
    "name": "ipython",
    "version": 3
   },
   "file_extension": ".py",
   "mimetype": "text/x-python",
   "name": "python",
   "nbconvert_exporter": "python",
   "pygments_lexer": "ipython3",
   "version": "3.7.9"
  },
  "toc": {
   "base_numbering": 1,
   "nav_menu": {},
   "number_sections": true,
   "sideBar": true,
   "skip_h1_title": false,
   "title_cell": "Table of Contents",
   "title_sidebar": "Contents",
   "toc_cell": true,
   "toc_position": {},
   "toc_section_display": true,
   "toc_window_display": true
  },
  "varInspector": {
   "cols": {
    "lenName": 16,
    "lenType": 16,
    "lenVar": 40
   },
   "kernels_config": {
    "python": {
     "delete_cmd_postfix": "",
     "delete_cmd_prefix": "del ",
     "library": "var_list.py",
     "varRefreshCmd": "print(var_dic_list())"
    },
    "r": {
     "delete_cmd_postfix": ") ",
     "delete_cmd_prefix": "rm(",
     "library": "var_list.r",
     "varRefreshCmd": "cat(var_dic_list()) "
    }
   },
   "types_to_exclude": [
    "module",
    "function",
    "builtin_function_or_method",
    "instance",
    "_Feature"
   ],
   "window_display": false
  }
 },
 "nbformat": 4,
 "nbformat_minor": 5
}
